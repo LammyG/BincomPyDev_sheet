{
 "cells": [
  {
   "cell_type": "code",
   "execution_count": 1,
   "id": "168d17af",
   "metadata": {},
   "outputs": [],
   "source": [
    "#Bincom centre has 19 staffs/workers that wears different colors of dress for the week\n",
    "#ranging from moday to friday\n",
    "\n",
    "#Days\n",
    "#color = frequency\n",
    "\n",
    "#Monday\n",
    "Green = 3\n",
    "Yellow = 2\n",
    "Brown = 1\n",
    "Blue = 6\n",
    "Pink = 1\n",
    "Orange = 2\n",
    "Cream = 1\n",
    "Red = 1\n",
    "White = 2\n",
    "\n",
    "#Tuesday \n",
    "Arsh = 1\n",
    "Brown = 2\n",
    "Green = 1\n",
    "Blue = 6\n",
    "Blew = 1\n",
    "Pink = 2\n",
    "Orange = 2\n",
    "Red = 1\n",
    "White = 3\n",
    "\n",
    "#Wednesday\n",
    "Green = 2\n",
    "Yellow = 2 \n",
    "Brown = 1\n",
    "Blue = 5\n",
    "Pink = 1 \n",
    "Red = 3\n",
    "Orange = 2\n",
    "White = 3\n",
    "\n",
    "#Thursday\n",
    "Blue = 7\n",
    "Green = 2\n",
    "White = 3\n",
    "Brown = 1\n",
    "Pink = 1\n",
    "Yellow = 1\n",
    "Cream = 1\n",
    "Orange = 2\n",
    "Red = 1\n",
    "\n",
    "#Friday\n",
    "Green = 2\n",
    "White = 5\n",
    "Brown = 1\n",
    "Blue = 6\n",
    "Black = 1\n",
    "Orange = 1\n",
    "Red = 3\n",
    "\n"
   ]
  },
  {
   "cell_type": "code",
   "execution_count": 2,
   "id": "913a545d",
   "metadata": {},
   "outputs": [],
   "source": [
    "#Q1:Which color of shirt is the mean color?\n"
   ]
  },
  {
   "cell_type": "code",
   "execution_count": 4,
   "id": "7ac18749",
   "metadata": {},
   "outputs": [],
   "source": [
    "import statistics"
   ]
  },
  {
   "cell_type": "code",
   "execution_count": 4,
   "id": "cc532b74",
   "metadata": {},
   "outputs": [],
   "source": [
    "#Monday\n",
    "Green = 3\n",
    "Yellow = 2\n",
    "Brown = 1\n",
    "Blue = 6\n",
    "Pink = 1\n",
    "Orange = 2\n",
    "Cream = 1\n",
    "Red = 1\n",
    "White = 2\n",
    "\n",
    "\n",
    "Monday = [3, 2, 1, 6, 1, 2, 1, 1, 2]\n"
   ]
  },
  {
   "cell_type": "code",
   "execution_count": 5,
   "id": "7ccf3589",
   "metadata": {},
   "outputs": [],
   "source": [
    "Monday = ['Green', 'Yellow', 'Brown', 'Blue', 'Pink', 'Orange', 'Cream', 'Red', 'White']\n"
   ]
  },
  {
   "cell_type": "code",
   "execution_count": 6,
   "id": "58f30066",
   "metadata": {},
   "outputs": [],
   "source": [
    "staffRecCreator = []"
   ]
  },
  {
   "cell_type": "code",
   "execution_count": 9,
   "id": "7a29a648",
   "metadata": {},
   "outputs": [],
   "source": [
    "weekDays = ('Monday', 'Tuesday', 'Wednesday', 'Thursday', 'Friday')\n",
    "colors = ('Green', 'Yellow', 'Brown','Blue', 'Pink', 'Orange', 'Cream', 'Red', 'White', 'arsh', 'blew', 'black')\n",
    "staffRecs = dict(zip(weekDays, colors))"
   ]
  },
  {
   "cell_type": "code",
   "execution_count": 10,
   "id": "5da0febf",
   "metadata": {},
   "outputs": [],
   "source": [
    "MondayColor = ('Green', 'Yellow', 'Brown', 'Blue', 'Pink', 'Orange', 'Cream', 'Red', 'White')\n",
    "MonColFreq = (3, 2, 1, 6, 1, 2, 1, 1, 2)\n",
    "\n",
    "DayRecs = dict(zip(MondayColor, MonColFreq))"
   ]
  },
  {
   "cell_type": "code",
   "execution_count": 11,
   "id": "06e5a351",
   "metadata": {},
   "outputs": [
    {
     "data": {
      "text/plain": [
       "3"
      ]
     },
     "execution_count": 11,
     "metadata": {},
     "output_type": "execute_result"
    }
   ],
   "source": [
    "DayRecs['Green']"
   ]
  },
  {
   "cell_type": "code",
   "execution_count": 12,
   "id": "ecac607f",
   "metadata": {},
   "outputs": [
    {
     "data": {
      "text/plain": [
       "6"
      ]
     },
     "execution_count": 12,
     "metadata": {},
     "output_type": "execute_result"
    }
   ],
   "source": [
    "DayRecs['Blue']"
   ]
  },
  {
   "cell_type": "code",
   "execution_count": 15,
   "id": "60f8ca95",
   "metadata": {},
   "outputs": [
    {
     "data": {
      "text/plain": [
       "1"
      ]
     },
     "execution_count": 15,
     "metadata": {},
     "output_type": "execute_result"
    }
   ],
   "source": [
    "DayRecs['Red']"
   ]
  },
  {
   "cell_type": "code",
   "execution_count": 16,
   "id": "3c552aff",
   "metadata": {},
   "outputs": [
    {
     "data": {
      "text/plain": [
       "dict_keys(['Green', 'Yellow', 'Brown', 'Blue', 'Pink', 'Orange', 'Cream', 'Red', 'White'])"
      ]
     },
     "execution_count": 16,
     "metadata": {},
     "output_type": "execute_result"
    }
   ],
   "source": [
    "DayRecs.keys()"
   ]
  },
  {
   "cell_type": "code",
   "execution_count": 17,
   "id": "d263e1fc",
   "metadata": {},
   "outputs": [],
   "source": [
    "TuesdayColor = ('Arsh', 'Brown', 'Green', 'Blue', 'Blew', 'Pink', 'Orange', 'Red', 'White')\n",
    "TueColFreq = (1, 2, 1, 6, 1, 2, 2, 1, 3)\n",
    "DayRecs = dict(zip(TuesdayColor, TueColFreq))"
   ]
  },
  {
   "cell_type": "code",
   "execution_count": 18,
   "id": "8b037465",
   "metadata": {},
   "outputs": [
    {
     "data": {
      "text/plain": [
       "1"
      ]
     },
     "execution_count": 18,
     "metadata": {},
     "output_type": "execute_result"
    }
   ],
   "source": [
    "DayRecs['Blew']"
   ]
  },
  {
   "cell_type": "code",
   "execution_count": 19,
   "id": "1b0c29d9",
   "metadata": {},
   "outputs": [
    {
     "data": {
      "text/plain": [
       "2"
      ]
     },
     "execution_count": 19,
     "metadata": {},
     "output_type": "execute_result"
    }
   ],
   "source": [
    "DayRecs['Pink']"
   ]
  },
  {
   "cell_type": "code",
   "execution_count": 20,
   "id": "f93d0839",
   "metadata": {},
   "outputs": [],
   "source": [
    "WednesdayColor = ('Green', 'Yellow', 'Brown', 'Blue', 'Pink', 'Red', 'Orange', 'White')\n",
    "WedColFreq = (2, 2, 1, 5, 1, 3, 2, 3)\n",
    "DayRecs = dict(zip(WednesdayColor, WedColFreq))"
   ]
  },
  {
   "cell_type": "code",
   "execution_count": 21,
   "id": "5d69e602",
   "metadata": {},
   "outputs": [
    {
     "data": {
      "text/plain": [
       "2"
      ]
     },
     "execution_count": 21,
     "metadata": {},
     "output_type": "execute_result"
    }
   ],
   "source": [
    "DayRecs['Green']"
   ]
  },
  {
   "cell_type": "code",
   "execution_count": 22,
   "id": "92e0d540",
   "metadata": {},
   "outputs": [
    {
     "data": {
      "text/plain": [
       "3"
      ]
     },
     "execution_count": 22,
     "metadata": {},
     "output_type": "execute_result"
    }
   ],
   "source": [
    "DayRecs[\"White\"]"
   ]
  },
  {
   "cell_type": "code",
   "execution_count": 23,
   "id": "719ed6c2",
   "metadata": {},
   "outputs": [],
   "source": [
    "ThursdayColor = ('Blue', 'Green', 'White', 'Brown', 'Pink', 'Yellow', 'Cream', 'Orange', 'Red')\n",
    "ThursColFreq = (7, 2, 3, 1, 1, 1, 1, 2, 1)\n",
    "DayRecs = dict(zip(ThursdayColor, ThursColFreq))"
   ]
  },
  {
   "cell_type": "code",
   "execution_count": 24,
   "id": "a3fd29b6",
   "metadata": {},
   "outputs": [
    {
     "data": {
      "text/plain": [
       "1"
      ]
     },
     "execution_count": 24,
     "metadata": {},
     "output_type": "execute_result"
    }
   ],
   "source": [
    "DayRecs['Cream']"
   ]
  },
  {
   "cell_type": "code",
   "execution_count": 25,
   "id": "eba4e2f1",
   "metadata": {},
   "outputs": [],
   "source": [
    "FridayColor = ('Green', 'White', 'Brown', 'Blue', 'Black', 'Orange', 'Red')\n",
    "FriColFreq = (2, 5, 1, 6, 1, 1, 3)\n",
    "DayRecs = dict(zip(FridayColor, FriColFreq))"
   ]
  },
  {
   "cell_type": "code",
   "execution_count": 27,
   "id": "b2472563",
   "metadata": {},
   "outputs": [
    {
     "data": {
      "text/plain": [
       "6"
      ]
     },
     "execution_count": 27,
     "metadata": {},
     "output_type": "execute_result"
    }
   ],
   "source": [
    "DayRecs['Blue']"
   ]
  },
  {
   "cell_type": "code",
   "execution_count": 12,
   "id": "a364ce21",
   "metadata": {},
   "outputs": [],
   "source": [
    "import statistics"
   ]
  },
  {
   "cell_type": "code",
   "execution_count": 30,
   "id": "019ffd3f",
   "metadata": {},
   "outputs": [
    {
     "data": {
      "text/plain": [
       "2.111111111111111"
      ]
     },
     "execution_count": 30,
     "metadata": {},
     "output_type": "execute_result"
    }
   ],
   "source": [
    "from statistics import mean\n",
    "statistics.mean(MonColFreq)"
   ]
  },
  {
   "cell_type": "code",
   "execution_count": 31,
   "id": "874425e1",
   "metadata": {},
   "outputs": [
    {
     "data": {
      "text/plain": [
       "2.111111111111111"
      ]
     },
     "execution_count": 31,
     "metadata": {},
     "output_type": "execute_result"
    }
   ],
   "source": [
    "from statistics import mean\n",
    "statistics.mean(TueColFreq)"
   ]
  },
  {
   "cell_type": "code",
   "execution_count": 32,
   "id": "60cd9a77",
   "metadata": {},
   "outputs": [
    {
     "data": {
      "text/plain": [
       "2.375"
      ]
     },
     "execution_count": 32,
     "metadata": {},
     "output_type": "execute_result"
    }
   ],
   "source": [
    "from statistics import mean\n",
    "statistics.mean(WedColFreq)"
   ]
  },
  {
   "cell_type": "code",
   "execution_count": 38,
   "id": "7579ec55",
   "metadata": {},
   "outputs": [
    {
     "data": {
      "text/plain": [
       "2.111111111111111"
      ]
     },
     "execution_count": 38,
     "metadata": {},
     "output_type": "execute_result"
    }
   ],
   "source": [
    "from statistics import mean\n",
    "statistics.mean(ThursColFreq)"
   ]
  },
  {
   "cell_type": "code",
   "execution_count": 39,
   "id": "d90240e9",
   "metadata": {},
   "outputs": [
    {
     "data": {
      "text/plain": [
       "2.7142857142857144"
      ]
     },
     "execution_count": 39,
     "metadata": {},
     "output_type": "execute_result"
    }
   ],
   "source": [
    "from statistics import mean\n",
    "statistics.mean(FriColFreq)"
   ]
  },
  {
   "cell_type": "code",
   "execution_count": 42,
   "id": "d6d4e9b4",
   "metadata": {},
   "outputs": [],
   "source": [
    "#AverageMean of the working days(Mon - Fri) in a week\n",
    "\n",
    "TotalMean = ()\n",
    "#AverageMean = (TotalMean)/5\n",
    "AverageMean = (2.1111 + 2.1111 + 2.375 + 2.1111 + 2.7143)/5"
   ]
  },
  {
   "cell_type": "code",
   "execution_count": 43,
   "id": "9fe994ae",
   "metadata": {},
   "outputs": [
    {
     "data": {
      "text/plain": [
       "2.2845199999999997"
      ]
     },
     "execution_count": 43,
     "metadata": {},
     "output_type": "execute_result"
    }
   ],
   "source": [
    "AverageMean"
   ]
  },
  {
   "cell_type": "code",
   "execution_count": null,
   "id": "d0a58b15",
   "metadata": {},
   "outputs": [],
   "source": [
    "#Since the AverageMean is 2.2845 approximated to 2.(in 4dp)\n",
    "#for the weekdays....among the colors, orange has the frequency of 2 for most of the days \n",
    "#from monday to thursday, except from friday;\n",
    "#No other colors has that exact frequency for up to 4days.\n",
    "#which brings me to the conclusion of orange being the mean color"
   ]
  },
  {
   "cell_type": "code",
   "execution_count": 44,
   "id": "57826f34",
   "metadata": {},
   "outputs": [
    {
     "data": {
      "text/plain": [
       "'Orange'"
      ]
     },
     "execution_count": 44,
     "metadata": {},
     "output_type": "execute_result"
    }
   ],
   "source": [
    "from statistics import median\n",
    "statistics.median(MondayColor)"
   ]
  },
  {
   "cell_type": "code",
   "execution_count": 45,
   "id": "bac20bd5",
   "metadata": {},
   "outputs": [
    {
     "data": {
      "text/plain": [
       "'Green'"
      ]
     },
     "execution_count": 45,
     "metadata": {},
     "output_type": "execute_result"
    }
   ],
   "source": [
    "from statistics import median\n",
    "statistics.median(TuesdayColor)"
   ]
  },
  {
   "cell_type": "code",
   "execution_count": 54,
   "id": "54bb697e",
   "metadata": {},
   "outputs": [
    {
     "ename": "TypeError",
     "evalue": "unsupported operand type(s) for /: 'str' and 'int'",
     "output_type": "error",
     "traceback": [
      "\u001b[1;31m---------------------------------------------------------------------------\u001b[0m",
      "\u001b[1;31mTypeError\u001b[0m                                 Traceback (most recent call last)",
      "\u001b[1;32m<ipython-input-54-fa0e1e581997>\u001b[0m in \u001b[0;36m<module>\u001b[1;34m\u001b[0m\n\u001b[0;32m      1\u001b[0m \u001b[1;32mfrom\u001b[0m \u001b[0mstatistics\u001b[0m \u001b[1;32mimport\u001b[0m \u001b[0mmedian\u001b[0m\u001b[1;33m\u001b[0m\u001b[1;33m\u001b[0m\u001b[0m\n\u001b[1;32m----> 2\u001b[1;33m \u001b[0mstatistics\u001b[0m\u001b[1;33m.\u001b[0m\u001b[0mmedian\u001b[0m\u001b[1;33m(\u001b[0m\u001b[0mWednesdayColor\u001b[0m\u001b[1;33m)\u001b[0m\u001b[1;33m\u001b[0m\u001b[1;33m\u001b[0m\u001b[0m\n\u001b[0m",
      "\u001b[1;32m~\\anaconda3\\lib\\statistics.py\u001b[0m in \u001b[0;36mmedian\u001b[1;34m(data)\u001b[0m\n\u001b[0;32m    433\u001b[0m     \u001b[1;32melse\u001b[0m\u001b[1;33m:\u001b[0m\u001b[1;33m\u001b[0m\u001b[1;33m\u001b[0m\u001b[0m\n\u001b[0;32m    434\u001b[0m         \u001b[0mi\u001b[0m \u001b[1;33m=\u001b[0m \u001b[0mn\u001b[0m\u001b[1;33m//\u001b[0m\u001b[1;36m2\u001b[0m\u001b[1;33m\u001b[0m\u001b[1;33m\u001b[0m\u001b[0m\n\u001b[1;32m--> 435\u001b[1;33m         \u001b[1;32mreturn\u001b[0m \u001b[1;33m(\u001b[0m\u001b[0mdata\u001b[0m\u001b[1;33m[\u001b[0m\u001b[0mi\u001b[0m \u001b[1;33m-\u001b[0m \u001b[1;36m1\u001b[0m\u001b[1;33m]\u001b[0m \u001b[1;33m+\u001b[0m \u001b[0mdata\u001b[0m\u001b[1;33m[\u001b[0m\u001b[0mi\u001b[0m\u001b[1;33m]\u001b[0m\u001b[1;33m)\u001b[0m\u001b[1;33m/\u001b[0m\u001b[1;36m2\u001b[0m\u001b[1;33m\u001b[0m\u001b[1;33m\u001b[0m\u001b[0m\n\u001b[0m\u001b[0;32m    436\u001b[0m \u001b[1;33m\u001b[0m\u001b[0m\n\u001b[0;32m    437\u001b[0m \u001b[1;33m\u001b[0m\u001b[0m\n",
      "\u001b[1;31mTypeError\u001b[0m: unsupported operand type(s) for /: 'str' and 'int'"
     ]
    }
   ],
   "source": [
    "from statistics import median\n",
    "statistics.median(WednesdayColor)"
   ]
  },
  {
   "cell_type": "code",
   "execution_count": 48,
   "id": "3b1f0f83",
   "metadata": {},
   "outputs": [
    {
     "data": {
      "text/plain": [
       "'Orange'"
      ]
     },
     "execution_count": 48,
     "metadata": {},
     "output_type": "execute_result"
    }
   ],
   "source": [
    "from statistics import median\n",
    "statistics.median(ThursdayColor)"
   ]
  },
  {
   "cell_type": "code",
   "execution_count": 49,
   "id": "6f59b22a",
   "metadata": {},
   "outputs": [
    {
     "data": {
      "text/plain": [
       "'Green'"
      ]
     },
     "execution_count": 49,
     "metadata": {},
     "output_type": "execute_result"
    }
   ],
   "source": [
    "from statistics import median\n",
    "statistics.median(FridayColor)"
   ]
  },
  {
   "cell_type": "code",
   "execution_count": null,
   "id": "d6ea7414",
   "metadata": {},
   "outputs": [],
   "source": []
  },
  {
   "cell_type": "code",
   "execution_count": 63,
   "id": "c6fa6c98",
   "metadata": {},
   "outputs": [
    {
     "data": {
      "text/plain": [
       "'Blue'"
      ]
     },
     "execution_count": 63,
     "metadata": {},
     "output_type": "execute_result"
    }
   ],
   "source": [
    "from statistics import mode\n",
    "statistics.mode(ThursdayColor)"
   ]
  },
  {
   "cell_type": "code",
   "execution_count": 64,
   "id": "1738682b",
   "metadata": {},
   "outputs": [],
   "source": [
    "#From the data above, it could be noted that the most worn color of shirt was blue\n",
    "#having a total frequency of 30 in numbers of staff that wore the blue color shirt for the weekdays"
   ]
  },
  {
   "cell_type": "code",
   "execution_count": 15,
   "id": "5957fb6d",
   "metadata": {},
   "outputs": [],
   "source": [
    "def Days_freq(staff):\n",
    " {Days_freq:{staff:[]}}"
   ]
  },
  {
   "cell_type": "code",
   "execution_count": 16,
   "id": "4a60bc24",
   "metadata": {},
   "outputs": [],
   "source": [
    "fullDict = dict()\n",
    "def staffRecCreator2(Day, freq, tempDict):\n",
    "\n",
    " staffKey = Day + '_'+str(ID)\n",
    " fullDict[staffKey] = tempDict\n",
    " #print(fullDict)\n",
    " return fullDict\n",
    "def staffRecCreator1(Day, freq,staff):\n",
    " tempDict = dict()\n",
    " tempDict['staff']= staffs\n",
    " print(tempDict)\n",
    " resp = staffRecCreator2(Day, freq, tempDict)\n",
    " print(resp)\n",
    " "
   ]
  },
  {
   "cell_type": "code",
   "execution_count": 15,
   "id": "62e1e2d6",
   "metadata": {},
   "outputs": [
    {
     "name": "stdout",
     "output_type": "stream",
     "text": [
      "DayMonday\n",
      "colorGreen\n",
      "frequency3\n"
     ]
    },
    {
     "ename": "NameError",
     "evalue": "name 'staffRecCreator' is not defined",
     "output_type": "error",
     "traceback": [
      "\u001b[1;31m---------------------------------------------------------------------------\u001b[0m",
      "\u001b[1;31mNameError\u001b[0m                                 Traceback (most recent call last)",
      "\u001b[1;32m<ipython-input-15-1efec8f3c334>\u001b[0m in \u001b[0;36m<module>\u001b[1;34m\u001b[0m\n\u001b[0;32m      3\u001b[0m \u001b[0mfreq\u001b[0m \u001b[1;33m=\u001b[0m \u001b[0minput\u001b[0m\u001b[1;33m(\u001b[0m\u001b[1;34m'frequency'\u001b[0m\u001b[1;33m)\u001b[0m\u001b[1;33m\u001b[0m\u001b[1;33m\u001b[0m\u001b[0m\n\u001b[0;32m      4\u001b[0m \u001b[1;33m\u001b[0m\u001b[0m\n\u001b[1;32m----> 5\u001b[1;33m \u001b[0mstaffRecCreator\u001b[0m\u001b[1;33m(\u001b[0m\u001b[0mDay\u001b[0m\u001b[1;33m,\u001b[0m \u001b[0mcolor\u001b[0m\u001b[1;33m,\u001b[0m \u001b[0mfrequency\u001b[0m\u001b[1;33m)\u001b[0m\u001b[1;33m\u001b[0m\u001b[1;33m\u001b[0m\u001b[0m\n\u001b[0m",
      "\u001b[1;31mNameError\u001b[0m: name 'staffRecCreator' is not defined"
     ]
    }
   ],
   "source": [
    "weekDays = input('Day')\n",
    "colors = str(input('color'))\n",
    "freq = input('frequency')\n",
    "\n",
    "staffRecCreator(Day, color, frequency)\n"
   ]
  },
  {
   "cell_type": "code",
   "execution_count": null,
   "id": "86ec70f0",
   "metadata": {},
   "outputs": [],
   "source": [
    "day = input('list of colors seperated by a comma')\n",
    "frequency = input('list of frequency seperated by a comma') "
   ]
  },
  {
   "cell_type": "raw",
   "id": "8476a499",
   "metadata": {},
   "source": [
    "DataTable = \n",
    "\n",
    "ColorType = input('color')\n",
    "frequency = input('freq')\n",
    "day = input('day')"
   ]
  },
  {
   "cell_type": "code",
   "execution_count": null,
   "id": "d9d16207",
   "metadata": {},
   "outputs": [],
   "source": []
  },
  {
   "cell_type": "code",
   "execution_count": 16,
   "id": "8768d5c8",
   "metadata": {},
   "outputs": [
    {
     "ename": "TypeError",
     "evalue": "'int' object is not iterable",
     "output_type": "error",
     "traceback": [
      "\u001b[1;31m---------------------------------------------------------------------------\u001b[0m",
      "\u001b[1;31mTypeError\u001b[0m                                 Traceback (most recent call last)",
      "\u001b[1;32m<ipython-input-16-21296b7b3212>\u001b[0m in \u001b[0;36m<module>\u001b[1;34m\u001b[0m\n\u001b[0;32m      1\u001b[0m \u001b[1;32mfrom\u001b[0m \u001b[0mstatistics\u001b[0m \u001b[1;32mimport\u001b[0m \u001b[0mmode\u001b[0m\u001b[1;33m\u001b[0m\u001b[1;33m\u001b[0m\u001b[0m\n\u001b[1;32m----> 2\u001b[1;33m \u001b[0mstatistics\u001b[0m\u001b[1;33m.\u001b[0m\u001b[0mmode\u001b[0m\u001b[1;33m(\u001b[0m\u001b[0mBlue\u001b[0m\u001b[1;33m)\u001b[0m\u001b[1;33m\u001b[0m\u001b[1;33m\u001b[0m\u001b[0m\n\u001b[0m",
      "\u001b[1;32m~\\anaconda3\\lib\\statistics.py\u001b[0m in \u001b[0;36mmode\u001b[1;34m(data)\u001b[0m\n\u001b[0;32m    555\u001b[0m \u001b[1;33m\u001b[0m\u001b[0m\n\u001b[0;32m    556\u001b[0m     \"\"\"\n\u001b[1;32m--> 557\u001b[1;33m     \u001b[0mdata\u001b[0m \u001b[1;33m=\u001b[0m \u001b[0miter\u001b[0m\u001b[1;33m(\u001b[0m\u001b[0mdata\u001b[0m\u001b[1;33m)\u001b[0m\u001b[1;33m\u001b[0m\u001b[1;33m\u001b[0m\u001b[0m\n\u001b[0m\u001b[0;32m    558\u001b[0m     \u001b[0mpairs\u001b[0m \u001b[1;33m=\u001b[0m \u001b[0mCounter\u001b[0m\u001b[1;33m(\u001b[0m\u001b[0mdata\u001b[0m\u001b[1;33m)\u001b[0m\u001b[1;33m.\u001b[0m\u001b[0mmost_common\u001b[0m\u001b[1;33m(\u001b[0m\u001b[1;36m1\u001b[0m\u001b[1;33m)\u001b[0m\u001b[1;33m\u001b[0m\u001b[1;33m\u001b[0m\u001b[0m\n\u001b[0;32m    559\u001b[0m     \u001b[1;32mtry\u001b[0m\u001b[1;33m:\u001b[0m\u001b[1;33m\u001b[0m\u001b[1;33m\u001b[0m\u001b[0m\n",
      "\u001b[1;31mTypeError\u001b[0m: 'int' object is not iterable"
     ]
    }
   ],
   "source": [
    "from statistics import mode\n",
    "statistics.mode(Blue)"
   ]
  },
  {
   "cell_type": "code",
   "execution_count": null,
   "id": "09c0d51a",
   "metadata": {},
   "outputs": [],
   "source": [
    "#Q2: What color is mostly worn throughout the week"
   ]
  },
  {
   "cell_type": "code",
   "execution_count": null,
   "id": "5d155ffe",
   "metadata": {},
   "outputs": [],
   "source": [
    "#Q3: Which color is the median"
   ]
  },
  {
   "cell_type": "code",
   "execution_count": null,
   "id": "2c8b45f9",
   "metadata": {},
   "outputs": [],
   "source": [
    "#Q4: Saving the colours and their frequencies in postgresql database "
   ]
  },
  {
   "cell_type": "code",
   "execution_count": null,
   "id": "b44e0ebb",
   "metadata": {},
   "outputs": [],
   "source": [
    "#Q5: Write a program that generates random 4 digits number of 0s and 1s and convert \n",
    "    #the generated number to base 10"
   ]
  },
  {
   "cell_type": "code",
   "execution_count": 20,
   "id": "1f73ebc2",
   "metadata": {},
   "outputs": [],
   "source": [
    "import random"
   ]
  },
  {
   "cell_type": "code",
   "execution_count": 21,
   "id": "5b41fe3f",
   "metadata": {},
   "outputs": [
    {
     "name": "stdout",
     "output_type": "stream",
     "text": [
      "A random 4 digits number having 0 and 1 is :  0.6829035568351597\n"
     ]
    }
   ],
   "source": [
    "#using random() to generate random 4 digit numbers between 0 and 1\n",
    "print(\"A random 4 digits number having 0 and 1 is : \", end=\" \")\n",
    "print(random.random())\n"
   ]
  },
  {
   "cell_type": "code",
   "execution_count": null,
   "id": "897ef1fa",
   "metadata": {},
   "outputs": [],
   "source": [
    "#Q6: Write a program to sum the first 50 fibonacci sequence"
   ]
  },
  {
   "cell_type": "code",
   "execution_count": 19,
   "id": "b88ed372",
   "metadata": {},
   "outputs": [
    {
     "name": "stdout",
     "output_type": "stream",
     "text": [
      "how many terms? 50\n",
      "Fibonacci sequence:\n",
      "0\n",
      "1\n",
      "1\n",
      "2\n",
      "3\n",
      "5\n",
      "8\n",
      "13\n",
      "21\n",
      "34\n",
      "55\n",
      "89\n",
      "144\n",
      "233\n",
      "377\n",
      "610\n",
      "987\n",
      "1597\n",
      "2584\n",
      "4181\n",
      "6765\n",
      "10946\n",
      "17711\n",
      "28657\n",
      "46368\n",
      "75025\n",
      "121393\n",
      "196418\n",
      "317811\n",
      "514229\n",
      "832040\n",
      "1346269\n",
      "2178309\n",
      "3524578\n",
      "5702887\n",
      "9227465\n",
      "14930352\n",
      "24157817\n",
      "39088169\n",
      "63245986\n",
      "102334155\n",
      "165580141\n",
      "267914296\n",
      "433494437\n",
      "701408733\n",
      "1134903170\n",
      "1836311903\n",
      "2971215073\n",
      "4807526976\n",
      "7778742049\n"
     ]
    }
   ],
   "source": [
    "#python to display the Fibonacci sequence up to 50th term\n",
    "\n",
    "nterms  = int(input(\"how many terms? \"))\n",
    "\n",
    "#first two terms \n",
    "n1, n2 = 0, 1\n",
    "count = 0\n",
    "\n",
    "#check if the numbers of terms is valid\n",
    "if nterms <= 0:\n",
    "    print(\"please enter a positive integer\")\n",
    "#if there is only one term, return n1\n",
    "elif nterms == 1:\n",
    "    print(\"Fibonacci sequence upto\",nterms,\":\")\n",
    "    print(n1)\n",
    "#generate fibonacci sequence\n",
    "else:\n",
    "    print(\"Fibonacci sequence:\")\n",
    "    while count < nterms:\n",
    "        print(n1)\n",
    "        nth = n1 + n2\n",
    "        #update values\n",
    "        n1 = n2\n",
    "        n2 = nth\n",
    "        count += 1"
   ]
  },
  {
   "cell_type": "code",
   "execution_count": 18,
   "id": "8f703ec4",
   "metadata": {},
   "outputs": [
    {
     "name": "stdout",
     "output_type": "stream",
     "text": [
      "Fibonacci sequence:\n",
      "0\n",
      "1\n",
      "2\n",
      "3\n",
      "4\n",
      "5\n",
      "6\n",
      "7\n",
      "8\n",
      "9\n",
      "10\n",
      "11\n",
      "12\n",
      "13\n",
      "14\n",
      "15\n",
      "16\n",
      "17\n",
      "18\n",
      "19\n",
      "20\n",
      "21\n",
      "22\n",
      "23\n",
      "24\n",
      "25\n",
      "26\n",
      "27\n",
      "28\n",
      "29\n",
      "30\n",
      "31\n",
      "32\n",
      "33\n",
      "34\n",
      "35\n",
      "36\n",
      "37\n",
      "38\n",
      "39\n",
      "40\n",
      "41\n",
      "42\n",
      "43\n",
      "44\n",
      "45\n",
      "46\n",
      "47\n",
      "48\n",
      "49\n"
     ]
    }
   ],
   "source": [
    "#python programme to display fibonacci sequence using recursion\n",
    "\n",
    "def recur_fibo(n):\n",
    "    if n <= 50:\n",
    "        return n\n",
    "    else:\n",
    "        return(recur_fibo(n-1) + recur_fibo(n-2))\n",
    "    \n",
    "nterms = 50\n",
    "\n",
    "#check if the number of terms is valid\n",
    "if nterms <= 0:\n",
    "    print('please enter a positive integer')\n",
    "else:\n",
    "    print('Fibonacci sequence:')\n",
    "    for i in range(nterms):\n",
    "        print(recur_fibo(i))"
   ]
  },
  {
   "cell_type": "code",
   "execution_count": null,
   "id": "654ea75b",
   "metadata": {},
   "outputs": [],
   "source": []
  }
 ],
 "metadata": {
  "kernelspec": {
   "display_name": "Python 3",
   "language": "python",
   "name": "python3"
  },
  "language_info": {
   "codemirror_mode": {
    "name": "ipython",
    "version": 3
   },
   "file_extension": ".py",
   "mimetype": "text/x-python",
   "name": "python",
   "nbconvert_exporter": "python",
   "pygments_lexer": "ipython3",
   "version": "3.8.8"
  }
 },
 "nbformat": 4,
 "nbformat_minor": 5
}
